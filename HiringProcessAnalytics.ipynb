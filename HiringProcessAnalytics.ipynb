{
  "nbformat": 4,
  "nbformat_minor": 0,
  "metadata": {
    "colab": {
      "provenance": [],
      "collapsed_sections": []
    },
    "kernelspec": {
      "name": "python3",
      "display_name": "Python 3"
    },
    "language_info": {
      "name": "python"
    }
  },
  "cells": [
    {
      "cell_type": "markdown",
      "source": [
        "# Importing Libraries."
      ],
      "metadata": {
        "id": "e3WD87msijrh"
      }
    },
    {
      "cell_type": "code",
      "execution_count": null,
      "metadata": {
        "id": "vWcXUb-mdQHO"
      },
      "outputs": [],
      "source": [
        "import numpy as np\n",
        "import pandas as pd\n",
        "import matplotlib.pyplot as plt\n",
        "import seaborn as sns"
      ]
    },
    {
      "cell_type": "markdown",
      "source": [
        "# Loading Dataset."
      ],
      "metadata": {
        "id": "RIsrD9j7itvY"
      }
    },
    {
      "cell_type": "code",
      "source": [
        "df = pd.read_excel('/content/drive/MyDrive/dataset/Statistics.xlsx')\n",
        "df.head(10)"
      ],
      "metadata": {
        "colab": {
          "base_uri": "https://localhost:8080/",
          "height": 363
        },
        "id": "xirEX62OdfTn",
        "outputId": "10e4b8f1-dab4-4b19-d11c-3de50f9b1d48"
      },
      "execution_count": null,
      "outputs": [
        {
          "output_type": "execute_result",
          "data": {
            "text/plain": [
              "   application_id  Interview Taken on    Status event_name  \\\n",
              "0          383422 2014-05-01 11:40:49     Hired       Male   \n",
              "1          907518 2014-05-06 08:08:32     Hired     Female   \n",
              "2          176719 2014-05-06 08:08:54  Rejected       Male   \n",
              "3          429799 2014-05-02 16:28:59  Rejected     Female   \n",
              "4          253651 2014-05-02 16:32:26     Hired       Male   \n",
              "5          289907 2014-05-01 07:44:18     Hired       Male   \n",
              "6          959124 2014-05-06 16:27:55  Rejected       Male   \n",
              "7           86642 2014-05-09 13:17:36  Rejected       Male   \n",
              "8          751029 2014-05-02 13:09:57     Hired     Female   \n",
              "9          434547 2014-05-02 13:11:11  Rejected     Female   \n",
              "\n",
              "              Department Post Name  Offered Salary  \n",
              "0     Service Department        c8         56553.0  \n",
              "1     Service Department        c5         22075.0  \n",
              "2     Service Department        c5         70069.0  \n",
              "3  Operations Department        i4          3207.0  \n",
              "4  Operations Department        i4         29668.0  \n",
              "5       Sales Department         -         85914.0  \n",
              "6       Sales Department        i7         69904.0  \n",
              "7       Sales Department        i7         11758.0  \n",
              "8     Service Department        i4         15156.0  \n",
              "9     Service Department        i4         49515.0  "
            ],
            "text/html": [
              "\n",
              "  <div id=\"df-b8f4d413-2547-42bc-8e6a-25518b45caba\">\n",
              "    <div class=\"colab-df-container\">\n",
              "      <div>\n",
              "<style scoped>\n",
              "    .dataframe tbody tr th:only-of-type {\n",
              "        vertical-align: middle;\n",
              "    }\n",
              "\n",
              "    .dataframe tbody tr th {\n",
              "        vertical-align: top;\n",
              "    }\n",
              "\n",
              "    .dataframe thead th {\n",
              "        text-align: right;\n",
              "    }\n",
              "</style>\n",
              "<table border=\"1\" class=\"dataframe\">\n",
              "  <thead>\n",
              "    <tr style=\"text-align: right;\">\n",
              "      <th></th>\n",
              "      <th>application_id</th>\n",
              "      <th>Interview Taken on</th>\n",
              "      <th>Status</th>\n",
              "      <th>event_name</th>\n",
              "      <th>Department</th>\n",
              "      <th>Post Name</th>\n",
              "      <th>Offered Salary</th>\n",
              "    </tr>\n",
              "  </thead>\n",
              "  <tbody>\n",
              "    <tr>\n",
              "      <th>0</th>\n",
              "      <td>383422</td>\n",
              "      <td>2014-05-01 11:40:49</td>\n",
              "      <td>Hired</td>\n",
              "      <td>Male</td>\n",
              "      <td>Service Department</td>\n",
              "      <td>c8</td>\n",
              "      <td>56553.0</td>\n",
              "    </tr>\n",
              "    <tr>\n",
              "      <th>1</th>\n",
              "      <td>907518</td>\n",
              "      <td>2014-05-06 08:08:32</td>\n",
              "      <td>Hired</td>\n",
              "      <td>Female</td>\n",
              "      <td>Service Department</td>\n",
              "      <td>c5</td>\n",
              "      <td>22075.0</td>\n",
              "    </tr>\n",
              "    <tr>\n",
              "      <th>2</th>\n",
              "      <td>176719</td>\n",
              "      <td>2014-05-06 08:08:54</td>\n",
              "      <td>Rejected</td>\n",
              "      <td>Male</td>\n",
              "      <td>Service Department</td>\n",
              "      <td>c5</td>\n",
              "      <td>70069.0</td>\n",
              "    </tr>\n",
              "    <tr>\n",
              "      <th>3</th>\n",
              "      <td>429799</td>\n",
              "      <td>2014-05-02 16:28:59</td>\n",
              "      <td>Rejected</td>\n",
              "      <td>Female</td>\n",
              "      <td>Operations Department</td>\n",
              "      <td>i4</td>\n",
              "      <td>3207.0</td>\n",
              "    </tr>\n",
              "    <tr>\n",
              "      <th>4</th>\n",
              "      <td>253651</td>\n",
              "      <td>2014-05-02 16:32:26</td>\n",
              "      <td>Hired</td>\n",
              "      <td>Male</td>\n",
              "      <td>Operations Department</td>\n",
              "      <td>i4</td>\n",
              "      <td>29668.0</td>\n",
              "    </tr>\n",
              "    <tr>\n",
              "      <th>5</th>\n",
              "      <td>289907</td>\n",
              "      <td>2014-05-01 07:44:18</td>\n",
              "      <td>Hired</td>\n",
              "      <td>Male</td>\n",
              "      <td>Sales Department</td>\n",
              "      <td>-</td>\n",
              "      <td>85914.0</td>\n",
              "    </tr>\n",
              "    <tr>\n",
              "      <th>6</th>\n",
              "      <td>959124</td>\n",
              "      <td>2014-05-06 16:27:55</td>\n",
              "      <td>Rejected</td>\n",
              "      <td>Male</td>\n",
              "      <td>Sales Department</td>\n",
              "      <td>i7</td>\n",
              "      <td>69904.0</td>\n",
              "    </tr>\n",
              "    <tr>\n",
              "      <th>7</th>\n",
              "      <td>86642</td>\n",
              "      <td>2014-05-09 13:17:36</td>\n",
              "      <td>Rejected</td>\n",
              "      <td>Male</td>\n",
              "      <td>Sales Department</td>\n",
              "      <td>i7</td>\n",
              "      <td>11758.0</td>\n",
              "    </tr>\n",
              "    <tr>\n",
              "      <th>8</th>\n",
              "      <td>751029</td>\n",
              "      <td>2014-05-02 13:09:57</td>\n",
              "      <td>Hired</td>\n",
              "      <td>Female</td>\n",
              "      <td>Service Department</td>\n",
              "      <td>i4</td>\n",
              "      <td>15156.0</td>\n",
              "    </tr>\n",
              "    <tr>\n",
              "      <th>9</th>\n",
              "      <td>434547</td>\n",
              "      <td>2014-05-02 13:11:11</td>\n",
              "      <td>Rejected</td>\n",
              "      <td>Female</td>\n",
              "      <td>Service Department</td>\n",
              "      <td>i4</td>\n",
              "      <td>49515.0</td>\n",
              "    </tr>\n",
              "  </tbody>\n",
              "</table>\n",
              "</div>\n",
              "      <button class=\"colab-df-convert\" onclick=\"convertToInteractive('df-b8f4d413-2547-42bc-8e6a-25518b45caba')\"\n",
              "              title=\"Convert this dataframe to an interactive table.\"\n",
              "              style=\"display:none;\">\n",
              "        \n",
              "  <svg xmlns=\"http://www.w3.org/2000/svg\" height=\"24px\"viewBox=\"0 0 24 24\"\n",
              "       width=\"24px\">\n",
              "    <path d=\"M0 0h24v24H0V0z\" fill=\"none\"/>\n",
              "    <path d=\"M18.56 5.44l.94 2.06.94-2.06 2.06-.94-2.06-.94-.94-2.06-.94 2.06-2.06.94zm-11 1L8.5 8.5l.94-2.06 2.06-.94-2.06-.94L8.5 2.5l-.94 2.06-2.06.94zm10 10l.94 2.06.94-2.06 2.06-.94-2.06-.94-.94-2.06-.94 2.06-2.06.94z\"/><path d=\"M17.41 7.96l-1.37-1.37c-.4-.4-.92-.59-1.43-.59-.52 0-1.04.2-1.43.59L10.3 9.45l-7.72 7.72c-.78.78-.78 2.05 0 2.83L4 21.41c.39.39.9.59 1.41.59.51 0 1.02-.2 1.41-.59l7.78-7.78 2.81-2.81c.8-.78.8-2.07 0-2.86zM5.41 20L4 18.59l7.72-7.72 1.47 1.35L5.41 20z\"/>\n",
              "  </svg>\n",
              "      </button>\n",
              "      \n",
              "  <style>\n",
              "    .colab-df-container {\n",
              "      display:flex;\n",
              "      flex-wrap:wrap;\n",
              "      gap: 12px;\n",
              "    }\n",
              "\n",
              "    .colab-df-convert {\n",
              "      background-color: #E8F0FE;\n",
              "      border: none;\n",
              "      border-radius: 50%;\n",
              "      cursor: pointer;\n",
              "      display: none;\n",
              "      fill: #1967D2;\n",
              "      height: 32px;\n",
              "      padding: 0 0 0 0;\n",
              "      width: 32px;\n",
              "    }\n",
              "\n",
              "    .colab-df-convert:hover {\n",
              "      background-color: #E2EBFA;\n",
              "      box-shadow: 0px 1px 2px rgba(60, 64, 67, 0.3), 0px 1px 3px 1px rgba(60, 64, 67, 0.15);\n",
              "      fill: #174EA6;\n",
              "    }\n",
              "\n",
              "    [theme=dark] .colab-df-convert {\n",
              "      background-color: #3B4455;\n",
              "      fill: #D2E3FC;\n",
              "    }\n",
              "\n",
              "    [theme=dark] .colab-df-convert:hover {\n",
              "      background-color: #434B5C;\n",
              "      box-shadow: 0px 1px 3px 1px rgba(0, 0, 0, 0.15);\n",
              "      filter: drop-shadow(0px 1px 2px rgba(0, 0, 0, 0.3));\n",
              "      fill: #FFFFFF;\n",
              "    }\n",
              "  </style>\n",
              "\n",
              "      <script>\n",
              "        const buttonEl =\n",
              "          document.querySelector('#df-b8f4d413-2547-42bc-8e6a-25518b45caba button.colab-df-convert');\n",
              "        buttonEl.style.display =\n",
              "          google.colab.kernel.accessAllowed ? 'block' : 'none';\n",
              "\n",
              "        async function convertToInteractive(key) {\n",
              "          const element = document.querySelector('#df-b8f4d413-2547-42bc-8e6a-25518b45caba');\n",
              "          const dataTable =\n",
              "            await google.colab.kernel.invokeFunction('convertToInteractive',\n",
              "                                                     [key], {});\n",
              "          if (!dataTable) return;\n",
              "\n",
              "          const docLinkHtml = 'Like what you see? Visit the ' +\n",
              "            '<a target=\"_blank\" href=https://colab.research.google.com/notebooks/data_table.ipynb>data table notebook</a>'\n",
              "            + ' to learn more about interactive tables.';\n",
              "          element.innerHTML = '';\n",
              "          dataTable['output_type'] = 'display_data';\n",
              "          await google.colab.output.renderOutput(dataTable, element);\n",
              "          const docLink = document.createElement('div');\n",
              "          docLink.innerHTML = docLinkHtml;\n",
              "          element.appendChild(docLink);\n",
              "        }\n",
              "      </script>\n",
              "    </div>\n",
              "  </div>\n",
              "  "
            ]
          },
          "metadata": {},
          "execution_count": 2
        }
      ]
    },
    {
      "cell_type": "markdown",
      "source": [
        "# Data Sanity."
      ],
      "metadata": {
        "id": "KWxs301_i3pa"
      }
    },
    {
      "cell_type": "code",
      "source": [
        "'''Getting Basic Information about the given dataset'''\n",
        "\n",
        "print('The basic information about the given data is as follows : \\n')\n",
        "\n",
        "df.info()"
      ],
      "metadata": {
        "colab": {
          "base_uri": "https://localhost:8080/"
        },
        "id": "RGY_apphdfZR",
        "outputId": "1310887c-837d-4caa-9943-bb7927669eca"
      },
      "execution_count": null,
      "outputs": [
        {
          "output_type": "stream",
          "name": "stdout",
          "text": [
            "The basic information about the given data is as follows : \n",
            "\n",
            "<class 'pandas.core.frame.DataFrame'>\n",
            "RangeIndex: 7168 entries, 0 to 7167\n",
            "Data columns (total 7 columns):\n",
            " #   Column              Non-Null Count  Dtype         \n",
            "---  ------              --------------  -----         \n",
            " 0   application_id      7168 non-null   int64         \n",
            " 1   Interview Taken on  7168 non-null   datetime64[ns]\n",
            " 2   Status              7168 non-null   object        \n",
            " 3   event_name          7168 non-null   object        \n",
            " 4   Department          7168 non-null   object        \n",
            " 5   Post Name           7168 non-null   object        \n",
            " 6   Offered Salary      7167 non-null   float64       \n",
            "dtypes: datetime64[ns](1), float64(1), int64(1), object(4)\n",
            "memory usage: 392.1+ KB\n"
          ]
        }
      ]
    },
    {
      "cell_type": "markdown",
      "source": [
        "We can see that variable name 'application_id' has 7168 entries with dtype 'int64', variable name 'Status','event_name','Department','Post Name' has 7168 entries with dtype 'object', variable name 'Interview Taken On' has 7168 entries with dtype 'datetime64[ns]'."
      ],
      "metadata": {
        "id": "llyNuTVxmHov"
      }
    },
    {
      "cell_type": "code",
      "source": [
        "'''Getting the idea of number of rows and columns'''\n",
        "\n",
        "print(f'The shape of above dataset is : {df.shape} \\n')\n",
        "\n",
        "print(f'The rows of above dataset is : {df.shape[0]} \\n')\n",
        "\n",
        "print(f'The columns of above dataset is : {df.shape[1]} \\n')\n"
      ],
      "metadata": {
        "colab": {
          "base_uri": "https://localhost:8080/"
        },
        "id": "6GlQR8OKdfe-",
        "outputId": "16c0f3f8-be18-4ff5-e9be-f889b87a3518"
      },
      "execution_count": null,
      "outputs": [
        {
          "output_type": "stream",
          "name": "stdout",
          "text": [
            "The shape of above dataset is : (7168, 7) \n",
            "\n",
            "The rows of above dataset is : 7168 \n",
            "\n",
            "The columns of above dataset is : 7 \n",
            "\n"
          ]
        }
      ]
    },
    {
      "cell_type": "code",
      "source": [
        "'''Checking for null values if any'''\n",
        "\n",
        "print('Total number of null values in follow data is : \\n')\n",
        "\n",
        "df.isnull().sum()"
      ],
      "metadata": {
        "colab": {
          "base_uri": "https://localhost:8080/"
        },
        "id": "_KN9tV-fdfhp",
        "outputId": "a805b456-3841-48ba-a8c3-54991781852d"
      },
      "execution_count": null,
      "outputs": [
        {
          "output_type": "stream",
          "name": "stdout",
          "text": [
            "Total number of null values in follow data is : \n",
            "\n"
          ]
        },
        {
          "output_type": "execute_result",
          "data": {
            "text/plain": [
              "application_id        0\n",
              "Interview Taken on    0\n",
              "Status                0\n",
              "event_name            0\n",
              "Department            0\n",
              "Post Name             0\n",
              "Offered Salary        1\n",
              "dtype: int64"
            ]
          },
          "metadata": {},
          "execution_count": 5
        }
      ]
    },
    {
      "cell_type": "markdown",
      "source": [
        "we can see that variable name 'Offered Salary' has one null value which we can drop it off."
      ],
      "metadata": {
        "id": "ir9T28bgnECD"
      }
    },
    {
      "cell_type": "markdown",
      "source": [
        "# Explorating Data Analysis."
      ],
      "metadata": {
        "id": "VRmy89krnPXq"
      }
    },
    {
      "cell_type": "markdown",
      "source": [
        "# Task 1 : How many males and females are Hired ?"
      ],
      "metadata": {
        "id": "6PDu1AEBnZVL"
      }
    },
    {
      "cell_type": "code",
      "source": [
        "print('Number of Male and Females hired are \\n')\n",
        "\n",
        "df[((df['event_name']=='Male')|(df['event_name']=='Female'))]['Status'].value_counts()"
      ],
      "metadata": {
        "colab": {
          "base_uri": "https://localhost:8080/"
        },
        "id": "9IuKzhT1eSFw",
        "outputId": "e7b052e9-2ba9-4c4e-9f91-341ffcd74d9f"
      },
      "execution_count": null,
      "outputs": [
        {
          "output_type": "stream",
          "name": "stdout",
          "text": [
            "Number of Male and Females hired are \n",
            "\n"
          ]
        },
        {
          "output_type": "execute_result",
          "data": {
            "text/plain": [
              "Hired       4419\n",
              "Rejected    2341\n",
              "Name: Status, dtype: int64"
            ]
          },
          "metadata": {},
          "execution_count": 6
        }
      ]
    },
    {
      "cell_type": "markdown",
      "source": [
        "So we can see that Number of male and females hired are 4419."
      ],
      "metadata": {
        "id": "0Y56PQfbnZPP"
      }
    },
    {
      "cell_type": "markdown",
      "source": [
        "# Task 2 : What is the average salary offered in this company ?"
      ],
      "metadata": {
        "id": "ADGpK4RopteG"
      }
    },
    {
      "cell_type": "code",
      "source": [
        "print(f'The average salary offered in this company is : {df[\"Offered Salary\"].mean()} ')"
      ],
      "metadata": {
        "colab": {
          "base_uri": "https://localhost:8080/"
        },
        "id": "dykb7PpGeSJ9",
        "outputId": "edf6fa38-cc31-423c-fbac-20b331930a3d"
      },
      "execution_count": null,
      "outputs": [
        {
          "output_type": "stream",
          "name": "stdout",
          "text": [
            "The average salary offered in this company is : 49983.02902190596 \n"
          ]
        }
      ]
    },
    {
      "cell_type": "markdown",
      "source": [
        "# Task 3 : Draw the class intervals for salary in the company ?"
      ],
      "metadata": {
        "id": "QzlaMy1FqUxW"
      }
    },
    {
      "cell_type": "markdown",
      "source": [
        "As we know that we have one null value in the column 'Offered Salary' so our first step will be to drop the null values."
      ],
      "metadata": {
        "id": "RbMqNBQfqh9Q"
      }
    },
    {
      "cell_type": "code",
      "source": [
        "df.dropna(inplace=True)\n",
        "\n",
        "print('Null value is drop \\n')\n",
        "\n",
        "print('To verify \\n')\n",
        "\n",
        "print('Checking whether null values is dropped or not : \\n')\n",
        "\n",
        "df.isnull().sum()"
      ],
      "metadata": {
        "id": "LPLetQcEeSOE",
        "colab": {
          "base_uri": "https://localhost:8080/"
        },
        "outputId": "692f0128-7d89-4b89-8217-a5696ee4b624"
      },
      "execution_count": null,
      "outputs": [
        {
          "output_type": "stream",
          "name": "stdout",
          "text": [
            "Null value is drop \n",
            "\n",
            "To verify \n",
            "\n",
            "Checking whether null values is dropped or not : \n",
            "\n"
          ]
        },
        {
          "output_type": "execute_result",
          "data": {
            "text/plain": [
              "application_id        0\n",
              "Interview Taken on    0\n",
              "Status                0\n",
              "event_name            0\n",
              "Department            0\n",
              "Post Name             0\n",
              "Offered Salary        0\n",
              "dtype: int64"
            ]
          },
          "metadata": {},
          "execution_count": 8
        }
      ]
    },
    {
      "cell_type": "markdown",
      "source": [
        "Next to get the inteval of 'Offered Salary' we have to calculate 25th and 75th percentile and then subtract it."
      ],
      "metadata": {
        "id": "BFC3tM_PrM9o"
      }
    },
    {
      "cell_type": "code",
      "source": [
        "Q1 = np.percentile(df['Offered Salary'], 25)\n",
        "Q3 = np.percentile(df['Offered Salary'], 75)\n",
        "class_interval = Q3 - Q1\n",
        "\n",
        "print(f'Class Interval of Salary is found to be : {class_interval}')"
      ],
      "metadata": {
        "colab": {
          "base_uri": "https://localhost:8080/"
        },
        "id": "3NxAeDUghezL",
        "outputId": "e051d66f-bd43-4198-e71c-2be82eb33471"
      },
      "execution_count": null,
      "outputs": [
        {
          "output_type": "stream",
          "name": "stdout",
          "text": [
            "Class Interval of Salary is found to be : 48977.5\n"
          ]
        }
      ]
    },
    {
      "cell_type": "code",
      "source": [
        "'''Plotting the Interval using Boxplot'''\n",
        "\n",
        "sns.boxplot(df['Offered Salary'])"
      ],
      "metadata": {
        "colab": {
          "base_uri": "https://localhost:8080/",
          "height": 351
        },
        "id": "wnu892RWeSMG",
        "outputId": "6c6f1b4e-c53c-464a-f561-5f3bd42a14c9"
      },
      "execution_count": null,
      "outputs": [
        {
          "output_type": "stream",
          "name": "stderr",
          "text": [
            "/usr/local/lib/python3.7/dist-packages/seaborn/_decorators.py:43: FutureWarning: Pass the following variable as a keyword arg: x. From version 0.12, the only valid positional argument will be `data`, and passing other arguments without an explicit keyword will result in an error or misinterpretation.\n",
            "  FutureWarning\n"
          ]
        },
        {
          "output_type": "execute_result",
          "data": {
            "text/plain": [
              "<matplotlib.axes._subplots.AxesSubplot at 0x7f602f1deb10>"
            ]
          },
          "metadata": {},
          "execution_count": 10
        },
        {
          "output_type": "display_data",
          "data": {
            "text/plain": [
              "<Figure size 432x288 with 1 Axes>"
            ],
            "image/png": "[encoded data removed]"
          },
          "metadata": {
            "needs_background": "light"
          }
        }
      ]
    },
    {
      "cell_type": "markdown",
      "source": [
        "# Statistical Detail of Dataset."
      ],
      "metadata": {
        "id": "rOcVdts8rzY2"
      }
    },
    {
      "cell_type": "code",
      "source": [
        "print('The statistical detail of data is as follows : \\n')\n",
        "\n",
        "df.describe()"
      ],
      "metadata": {
        "colab": {
          "base_uri": "https://localhost:8080/",
          "height": 335
        },
        "id": "FYl_OudaeSP4",
        "outputId": "a68dfd97-8a7f-435a-c6e9-2f422964d7ad"
      },
      "execution_count": null,
      "outputs": [
        {
          "output_type": "stream",
          "name": "stdout",
          "text": [
            "The statistical detail of data is as follows : \n",
            "\n"
          ]
        },
        {
          "output_type": "execute_result",
          "data": {
            "text/plain": [
              "       application_id  Offered Salary\n",
              "count     7167.000000     7167.000000\n",
              "mean    508703.517650    49983.029022\n",
              "std     285128.056354    28854.176890\n",
              "min      12073.000000      100.000000\n",
              "25%     262397.000000    25460.500000\n",
              "50%     508051.000000    49625.000000\n",
              "75%     757401.500000    74438.000000\n",
              "max     999936.000000   400000.000000"
            ],
            "text/html": [
              "\n",
              "  <div id=\"df-d96af33d-42c0-4b01-9b44-1fc0a6acfd10\">\n",
              "    <div class=\"colab-df-container\">\n",
              "      <div>\n",
              "<style scoped>\n",
              "    .dataframe tbody tr th:only-of-type {\n",
              "        vertical-align: middle;\n",
              "    }\n",
              "\n",
              "    .dataframe tbody tr th {\n",
              "        vertical-align: top;\n",
              "    }\n",
              "\n",
              "    .dataframe thead th {\n",
              "        text-align: right;\n",
              "    }\n",
              "</style>\n",
              "<table border=\"1\" class=\"dataframe\">\n",
              "  <thead>\n",
              "    <tr style=\"text-align: right;\">\n",
              "      <th></th>\n",
              "      <th>application_id</th>\n",
              "      <th>Offered Salary</th>\n",
              "    </tr>\n",
              "  </thead>\n",
              "  <tbody>\n",
              "    <tr>\n",
              "      <th>count</th>\n",
              "      <td>7167.000000</td>\n",
              "      <td>7167.000000</td>\n",
              "    </tr>\n",
              "    <tr>\n",
              "      <th>mean</th>\n",
              "      <td>508703.517650</td>\n",
              "      <td>49983.029022</td>\n",
              "    </tr>\n",
              "    <tr>\n",
              "      <th>std</th>\n",
              "      <td>285128.056354</td>\n",
              "      <td>28854.176890</td>\n",
              "    </tr>\n",
              "    <tr>\n",
              "      <th>min</th>\n",
              "      <td>12073.000000</td>\n",
              "      <td>100.000000</td>\n",
              "    </tr>\n",
              "    <tr>\n",
              "      <th>25%</th>\n",
              "      <td>262397.000000</td>\n",
              "      <td>25460.500000</td>\n",
              "    </tr>\n",
              "    <tr>\n",
              "      <th>50%</th>\n",
              "      <td>508051.000000</td>\n",
              "      <td>49625.000000</td>\n",
              "    </tr>\n",
              "    <tr>\n",
              "      <th>75%</th>\n",
              "      <td>757401.500000</td>\n",
              "      <td>74438.000000</td>\n",
              "    </tr>\n",
              "    <tr>\n",
              "      <th>max</th>\n",
              "      <td>999936.000000</td>\n",
              "      <td>400000.000000</td>\n",
              "    </tr>\n",
              "  </tbody>\n",
              "</table>\n",
              "</div>\n",
              "      <button class=\"colab-df-convert\" onclick=\"convertToInteractive('df-d96af33d-42c0-4b01-9b44-1fc0a6acfd10')\"\n",
              "              title=\"Convert this dataframe to an interactive table.\"\n",
              "              style=\"display:none;\">\n",
              "        \n",
              "  <svg xmlns=\"http://www.w3.org/2000/svg\" height=\"24px\"viewBox=\"0 0 24 24\"\n",
              "       width=\"24px\">\n",
              "    <path d=\"M0 0h24v24H0V0z\" fill=\"none\"/>\n",
              "    <path d=\"M18.56 5.44l.94 2.06.94-2.06 2.06-.94-2.06-.94-.94-2.06-.94 2.06-2.06.94zm-11 1L8.5 8.5l.94-2.06 2.06-.94-2.06-.94L8.5 2.5l-.94 2.06-2.06.94zm10 10l.94 2.06.94-2.06 2.06-.94-2.06-.94-.94-2.06-.94 2.06-2.06.94z\"/><path d=\"M17.41 7.96l-1.37-1.37c-.4-.4-.92-.59-1.43-.59-.52 0-1.04.2-1.43.59L10.3 9.45l-7.72 7.72c-.78.78-.78 2.05 0 2.83L4 21.41c.39.39.9.59 1.41.59.51 0 1.02-.2 1.41-.59l7.78-7.78 2.81-2.81c.8-.78.8-2.07 0-2.86zM5.41 20L4 18.59l7.72-7.72 1.47 1.35L5.41 20z\"/>\n",
              "  </svg>\n",
              "      </button>\n",
              "      \n",
              "  <style>\n",
              "    .colab-df-container {\n",
              "      display:flex;\n",
              "      flex-wrap:wrap;\n",
              "      gap: 12px;\n",
              "    }\n",
              "\n",
              "    .colab-df-convert {\n",
              "      background-color: #E8F0FE;\n",
              "      border: none;\n",
              "      border-radius: 50%;\n",
              "      cursor: pointer;\n",
              "      display: none;\n",
              "      fill: #1967D2;\n",
              "      height: 32px;\n",
              "      padding: 0 0 0 0;\n",
              "      width: 32px;\n",
              "    }\n",
              "\n",
              "    .colab-df-convert:hover {\n",
              "      background-color: #E2EBFA;\n",
              "      box-shadow: 0px 1px 2px rgba(60, 64, 67, 0.3), 0px 1px 3px 1px rgba(60, 64, 67, 0.15);\n",
              "      fill: #174EA6;\n",
              "    }\n",
              "\n",
              "    [theme=dark] .colab-df-convert {\n",
              "      background-color: #3B4455;\n",
              "      fill: #D2E3FC;\n",
              "    }\n",
              "\n",
              "    [theme=dark] .colab-df-convert:hover {\n",
              "      background-color: #434B5C;\n",
              "      box-shadow: 0px 1px 3px 1px rgba(0, 0, 0, 0.15);\n",
              "      filter: drop-shadow(0px 1px 2px rgba(0, 0, 0, 0.3));\n",
              "      fill: #FFFFFF;\n",
              "    }\n",
              "  </style>\n",
              "\n",
              "      <script>\n",
              "        const buttonEl =\n",
              "          document.querySelector('#df-d96af33d-42c0-4b01-9b44-1fc0a6acfd10 button.colab-df-convert');\n",
              "        buttonEl.style.display =\n",
              "          google.colab.kernel.accessAllowed ? 'block' : 'none';\n",
              "\n",
              "        async function convertToInteractive(key) {\n",
              "          const element = document.querySelector('#df-d96af33d-42c0-4b01-9b44-1fc0a6acfd10');\n",
              "          const dataTable =\n",
              "            await google.colab.kernel.invokeFunction('convertToInteractive',\n",
              "                                                     [key], {});\n",
              "          if (!dataTable) return;\n",
              "\n",
              "          const docLinkHtml = 'Like what you see? Visit the ' +\n",
              "            '<a target=\"_blank\" href=https://colab.research.google.com/notebooks/data_table.ipynb>data table notebook</a>'\n",
              "            + ' to learn more about interactive tables.';\n",
              "          element.innerHTML = '';\n",
              "          dataTable['output_type'] = 'display_data';\n",
              "          await google.colab.output.renderOutput(dataTable, element);\n",
              "          const docLink = document.createElement('div');\n",
              "          docLink.innerHTML = docLinkHtml;\n",
              "          element.appendChild(docLink);\n",
              "        }\n",
              "      </script>\n",
              "    </div>\n",
              "  </div>\n",
              "  "
            ]
          },
          "metadata": {},
          "execution_count": 11
        }
      ]
    },
    {
      "cell_type": "markdown",
      "source": [
        "# Task 4 : Draw Pie Chart / Bar Graph ( or any other graph ) to show proportion of people working different department ?"
      ],
      "metadata": {
        "id": "oGygw3W7sJLS"
      }
    },
    {
      "cell_type": "markdown",
      "source": [
        "To see the proportion of people working in different deparment first we will see unique values in the department and their counts."
      ],
      "metadata": {
        "id": "SGbyrMNusLkM"
      }
    },
    {
      "cell_type": "code",
      "source": [
        "print('Unique Values and their counts are as follows : \\n')\n",
        "\n",
        "df['Department'].value_counts()"
      ],
      "metadata": {
        "id": "u-MxigJOeSUu",
        "colab": {
          "base_uri": "https://localhost:8080/"
        },
        "outputId": "2f03590a-1197-407a-dd95-5a76fadd522c"
      },
      "execution_count": null,
      "outputs": [
        {
          "output_type": "stream",
          "name": "stdout",
          "text": [
            "Unique Values and their counts are as follows : \n",
            "\n"
          ]
        },
        {
          "output_type": "execute_result",
          "data": {
            "text/plain": [
              "Operations Department        2771\n",
              "Service Department           2055\n",
              "Sales Department              746\n",
              "Production Department         380\n",
              "Purchase Department           333\n",
              "Marketing Department          325\n",
              "Finance Department            288\n",
              "General Management            172\n",
              "Human Resource Department      97\n",
              "Name: Department, dtype: int64"
            ]
          },
          "metadata": {},
          "execution_count": 12
        }
      ]
    },
    {
      "cell_type": "markdown",
      "source": [
        "# Data Visualization of proportion of people working in different department."
      ],
      "metadata": {
        "id": "dij8IS51tAuH"
      }
    },
    {
      "cell_type": "code",
      "source": [
        "'''Data Visualization of proportion of people working in different department'''\n",
        "\n",
        "plt.figure(figsize=(10,10))\n",
        "chart = sns.countplot(df['Department'], x = 'Departments', palette='Set1')\n",
        "chart.set_xticklabels(chart.get_xticklabels(), rotation=45)"
      ],
      "metadata": {
        "id": "_qnJ9jQ3eSXJ",
        "colab": {
          "base_uri": "https://localhost:8080/",
          "height": 918
        },
        "outputId": "e152b5ec-f257-4b11-9d8f-71337673779b"
      },
      "execution_count": null,
      "outputs": [
        {
          "output_type": "stream",
          "name": "stderr",
          "text": [
            "/usr/local/lib/python3.7/dist-packages/seaborn/_decorators.py:43: FutureWarning: Pass the following variable as a keyword arg: x. From version 0.12, the only valid positional argument will be `data`, and passing other arguments without an explicit keyword will result in an error or misinterpretation.\n",
            "  FutureWarning\n"
          ]
        },
        {
          "output_type": "execute_result",
          "data": {
            "text/plain": [
              "[Text(0, 0, 'Service Department'),\n",
              " Text(0, 0, 'Operations Department'),\n",
              " Text(0, 0, 'Sales Department'),\n",
              " Text(0, 0, 'Finance Department'),\n",
              " Text(0, 0, 'Production Department'),\n",
              " Text(0, 0, 'Purchase Department'),\n",
              " Text(0, 0, 'Marketing Department'),\n",
              " Text(0, 0, 'General Management'),\n",
              " Text(0, 0, 'Human Resource Department')]"
            ]
          },
          "metadata": {},
          "execution_count": 13
        },
        {
          "output_type": "display_data",
          "data": {
            "text/plain": [
              "<Figure size 720x720 with 1 Axes>"
            ],
            "image/png": "[encoded data removed]"
          },
          "metadata": {
            "needs_background": "light"
          }
        }
      ]
    },
    {
      "cell_type": "markdown",
      "source": [
        "# Now lets get into deeper analysis by looking different 'event_name' working in different deparment."
      ],
      "metadata": {
        "id": "Oc0Dh4dctD4N"
      }
    },
    {
      "cell_type": "code",
      "source": [
        "df['event_name'].value_counts()"
      ],
      "metadata": {
        "id": "4voT2tODeSZL",
        "colab": {
          "base_uri": "https://localhost:8080/"
        },
        "outputId": "20833d83-40a3-4456-fc7f-95b9a7d64106"
      },
      "execution_count": null,
      "outputs": [
        {
          "output_type": "execute_result",
          "data": {
            "text/plain": [
              "Male                 4084\n",
              "Female               2675\n",
              "Don’t want to say     393\n",
              "-                      15\n",
              "Name: event_name, dtype: int64"
            ]
          },
          "metadata": {},
          "execution_count": 14
        }
      ]
    },
    {
      "cell_type": "code",
      "source": [
        "'''Data Visualization of different 'event_name' working in different deparment'''\n",
        "\n",
        "plt.figure(figsize=(10,10))\n",
        "chart = sns.countplot(df['Department'], x = 'Departments', hue= df['event_name'], palette='Set1')\n",
        "chart.set_xticklabels(chart.get_xticklabels(), rotation=45)\n",
        "chart.legend(loc=1)"
      ],
      "metadata": {
        "id": "RHYIFVV-eScU",
        "colab": {
          "base_uri": "https://localhost:8080/",
          "height": 779
        },
        "outputId": "2221f5c1-fce1-4674-cc7d-1b776333ac57"
      },
      "execution_count": null,
      "outputs": [
        {
          "output_type": "stream",
          "name": "stderr",
          "text": [
            "/usr/local/lib/python3.7/dist-packages/seaborn/_decorators.py:43: FutureWarning: Pass the following variable as a keyword arg: x. From version 0.12, the only valid positional argument will be `data`, and passing other arguments without an explicit keyword will result in an error or misinterpretation.\n",
            "  FutureWarning\n"
          ]
        },
        {
          "output_type": "execute_result",
          "data": {
            "text/plain": [
              "<matplotlib.legend.Legend at 0x7f602efebd10>"
            ]
          },
          "metadata": {},
          "execution_count": 15
        },
        {
          "output_type": "display_data",
          "data": {
            "text/plain": [
              "<Figure size 720x720 with 1 Axes>"
            ],
            "image/png": "[encoded data removed]"
          },
          "metadata": {
            "needs_background": "light"
          }
        }
      ]
    },
    {
      "cell_type": "markdown",
      "source": [
        "we can see that 'Male' and 'Female' are more in proportion working in different department as compare to '-', 'Dnt want to say'."
      ],
      "metadata": {
        "id": "p2wx27k0trGB"
      }
    },
    {
      "cell_type": "markdown",
      "source": [
        "# Also we will see number of people hired and rejected in different deparment."
      ],
      "metadata": {
        "id": "V8Ff1i-Ot-w0"
      }
    },
    {
      "cell_type": "code",
      "source": [
        "plt.figure(figsize=(10,10))\n",
        "chart = sns.countplot(df['Department'], x = 'Departments', hue= df['Status'], palette='Set1')\n",
        "chart.set_xticklabels(chart.get_xticklabels(), rotation=45)\n",
        "chart.legend(loc=1)"
      ],
      "metadata": {
        "id": "8Kz0NcCRdfnW",
        "colab": {
          "base_uri": "https://localhost:8080/",
          "height": 779
        },
        "outputId": "77aa8357-046b-456a-b14c-685f2bd09d28"
      },
      "execution_count": null,
      "outputs": [
        {
          "output_type": "stream",
          "name": "stderr",
          "text": [
            "/usr/local/lib/python3.7/dist-packages/seaborn/_decorators.py:43: FutureWarning: Pass the following variable as a keyword arg: x. From version 0.12, the only valid positional argument will be `data`, and passing other arguments without an explicit keyword will result in an error or misinterpretation.\n",
            "  FutureWarning\n"
          ]
        },
        {
          "output_type": "execute_result",
          "data": {
            "text/plain": [
              "<matplotlib.legend.Legend at 0x7f602f076e50>"
            ]
          },
          "metadata": {},
          "execution_count": 16
        },
        {
          "output_type": "display_data",
          "data": {
            "text/plain": [
              "<Figure size 720x720 with 1 Axes>"
            ],
            "image/png": "[encoded data removed]"
          },
          "metadata": {
            "needs_background": "light"
          }
        }
      ]
    },
    {
      "cell_type": "markdown",
      "source": [
        "# Task 5 : Represent different post tiers using chart/graph?"
      ],
      "metadata": {
        "id": "l-9cMWcbuJVx"
      }
    },
    {
      "cell_type": "markdown",
      "source": [
        "First we will see the unique values of 'Post Name' and their counts."
      ],
      "metadata": {
        "id": "W2fhYdSluWlB"
      }
    },
    {
      "cell_type": "code",
      "source": [
        "df['Post Name'].value_counts()"
      ],
      "metadata": {
        "colab": {
          "base_uri": "https://localhost:8080/"
        },
        "id": "UH8igrepdqRN",
        "outputId": "24d908bd-7a03-41f3-f865-fbb0add5f955"
      },
      "execution_count": null,
      "outputs": [
        {
          "output_type": "execute_result",
          "data": {
            "text/plain": [
              "c9      1792\n",
              "c5      1747\n",
              "i7       981\n",
              "i5       787\n",
              "i6       527\n",
              "b9       463\n",
              "c8       320\n",
              "c-10     232\n",
              "i1       222\n",
              "i4        88\n",
              "m6         3\n",
              "-          1\n",
              "n10        1\n",
              "m7         1\n",
              "n9         1\n",
              "n6         1\n",
              "Name: Post Name, dtype: int64"
            ]
          },
          "metadata": {},
          "execution_count": 17
        }
      ]
    },
    {
      "cell_type": "markdown",
      "source": [
        "# Data Visualization of 'Post Name' with 'Status'"
      ],
      "metadata": {
        "id": "KotuOO5fujE7"
      }
    },
    {
      "cell_type": "code",
      "source": [
        "plt.figure(figsize=(10,10))\n",
        "chart = sns.countplot(df['Post Name'], x = 'Post Name', hue= df['Status'], palette='Set1')\n",
        "chart.set_xticklabels(chart.get_xticklabels(), rotation=45)\n",
        "chart.legend(loc=1)"
      ],
      "metadata": {
        "colab": {
          "base_uri": "https://localhost:8080/",
          "height": 690
        },
        "id": "c9YWHTuwdqT-",
        "outputId": "cb6527a8-7f04-4a7e-a8a4-f85440caaa1e"
      },
      "execution_count": null,
      "outputs": [
        {
          "output_type": "stream",
          "name": "stderr",
          "text": [
            "/usr/local/lib/python3.7/dist-packages/seaborn/_decorators.py:43: FutureWarning: Pass the following variable as a keyword arg: x. From version 0.12, the only valid positional argument will be `data`, and passing other arguments without an explicit keyword will result in an error or misinterpretation.\n",
            "  FutureWarning\n"
          ]
        },
        {
          "output_type": "execute_result",
          "data": {
            "text/plain": [
              "<matplotlib.legend.Legend at 0x7f602efaff10>"
            ]
          },
          "metadata": {},
          "execution_count": 18
        },
        {
          "output_type": "display_data",
          "data": {
            "text/plain": [
              "<Figure size 720x720 with 1 Axes>"
            ],
            "image/png": "[encoded data removed]"
          },
          "metadata": {
            "needs_background": "light"
          }
        }
      ]
    },
    {
      "cell_type": "markdown",
      "source": [
        "we can see from above countplot that no one was hired and rejected in '-','n10', 'm6', 'm7', 'n9', 'n6'."
      ],
      "metadata": {
        "id": "mp35oP0SuwU0"
      }
    },
    {
      "cell_type": "markdown",
      "source": [
        "# Data Visualization of 'Post Name' and 'Status'."
      ],
      "metadata": {
        "id": "bJ3JZYzDvOhJ"
      }
    },
    {
      "cell_type": "code",
      "source": [
        "plt.figure(figsize=(10,10))\n",
        "chart = sns.countplot(df['Post Name'], hue= df['event_name'], palette='Set1')\n",
        "chart.set_xticklabels(chart.get_xticklabels(), rotation=45)\n",
        "chart.legend(loc=1)"
      ],
      "metadata": {
        "colab": {
          "base_uri": "https://localhost:8080/",
          "height": 690
        },
        "id": "ZP2ssdcsdqWY",
        "outputId": "e06ff0ba-192a-44b6-d295-c2d14d638223"
      },
      "execution_count": null,
      "outputs": [
        {
          "output_type": "stream",
          "name": "stderr",
          "text": [
            "/usr/local/lib/python3.7/dist-packages/seaborn/_decorators.py:43: FutureWarning: Pass the following variable as a keyword arg: x. From version 0.12, the only valid positional argument will be `data`, and passing other arguments without an explicit keyword will result in an error or misinterpretation.\n",
            "  FutureWarning\n"
          ]
        },
        {
          "output_type": "execute_result",
          "data": {
            "text/plain": [
              "<matplotlib.legend.Legend at 0x7f602f076610>"
            ]
          },
          "metadata": {},
          "execution_count": 19
        },
        {
          "output_type": "display_data",
          "data": {
            "text/plain": [
              "<Figure size 720x720 with 1 Axes>"
            ],
            "image/png": "[encoded data removed]"
          },
          "metadata": {
            "needs_background": "light"
          }
        }
      ]
    },
    {
      "cell_type": "code",
      "source": [
        "df['status'] = df['Status'].apply(lambda x: 1 if x == 'Hired' else 0)"
      ],
      "metadata": {
        "id": "ws2qfF0rdqci"
      },
      "execution_count": null,
      "outputs": []
    },
    {
      "cell_type": "code",
      "source": [
        "sns.barplot(x =df['Post Name'], y = df['status'])"
      ],
      "metadata": {
        "colab": {
          "base_uri": "https://localhost:8080/",
          "height": 296
        },
        "id": "Ii8YAg-WhQI2",
        "outputId": "8b3bbcfb-8323-4884-f58a-3c4344aea0d9"
      },
      "execution_count": null,
      "outputs": [
        {
          "output_type": "execute_result",
          "data": {
            "text/plain": [
              "<matplotlib.axes._subplots.AxesSubplot at 0x7f60300d0510>"
            ]
          },
          "metadata": {},
          "execution_count": 21
        },
        {
          "output_type": "display_data",
          "data": {
            "text/plain": [
              "<Figure size 432x288 with 1 Axes>"
            ],
            "image/png": "[encoded data removed]"
          },
          "metadata": {
            "needs_background": "light"
          }
        }
      ]
    }
  ]
}